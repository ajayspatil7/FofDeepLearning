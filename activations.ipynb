{
 "cells": [
  {
   "cell_type": "code",
   "execution_count": 1,
   "metadata": {},
   "outputs": [],
   "source": [
    "import math\n",
    "\n",
    "\n",
    "def step(x):\n",
    "    return 1 if x > 0 else 0\n",
    "\n",
    "\n",
    "def sigmoid(x):\n",
    "    return 1 / (1 + math.pow(math.e, -x))\n",
    "\n",
    "\n",
    "def tanH(x):\n",
    "    return (math.exp(2 * x) - 1) / ( math.exp(2 * x) + 1)\n",
    "\n",
    "\n",
    "def reLU(x):\n",
    "    return max(0, x)\n",
    "\n",
    "\n",
    "def softmax(x: list):\n",
    "    exps = [math.exp(x) for i in x]\n",
    "    exps_sum = sum(exps)\n",
    "    prob = [j / exps_sum for j in exps]\n",
    "    return prob"
   ]
  },
  {
   "cell_type": "code",
   "execution_count": null,
   "metadata": {},
   "outputs": [],
   "source": []
  }
 ],
 "metadata": {
  "kernelspec": {
   "display_name": "Python 3",
   "language": "python",
   "name": "python3"
  },
  "language_info": {
   "codemirror_mode": {
    "name": "ipython",
    "version": 3
   },
   "file_extension": ".py",
   "mimetype": "text/x-python",
   "name": "python",
   "nbconvert_exporter": "python",
   "pygments_lexer": "ipython3",
   "version": "3.12.0"
  }
 },
 "nbformat": 4,
 "nbformat_minor": 2
}
